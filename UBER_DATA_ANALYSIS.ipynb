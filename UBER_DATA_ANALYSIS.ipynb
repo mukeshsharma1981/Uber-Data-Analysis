{
  "nbformat": 4,
  "nbformat_minor": 0,
  "metadata": {
    "colab": {
      "name": "UBER DATA ANALYSIS.ipynb",
      "provenance": [],
      "collapsed_sections": [],
      "mount_file_id": "1Y3HZ7a5BNijjn2hLOApLq4NKUzGoa_5-",
      "authorship_tag": "ABX9TyMe2dD/r/LcgsaCEdWmXTKu",
      "include_colab_link": true
    },
    "kernelspec": {
      "name": "python3",
      "display_name": "Python 3"
    },
    "language_info": {
      "name": "python"
    }
  },
  "cells": [
    {
      "cell_type": "markdown",
      "metadata": {
        "id": "view-in-github",
        "colab_type": "text"
      },
      "source": [
        "<a href=\"https://colab.research.google.com/github/mukeshsharma1981/Uber-Data-Analysis/blob/main/UBER_DATA_ANALYSIS.ipynb\" target=\"_parent\"><img src=\"https://colab.research.google.com/assets/colab-badge.svg\" alt=\"Open In Colab\"/></a>"
      ]
    },
    {
      "cell_type": "code",
      "metadata": {
        "id": "hqqbdQNwW_ZE"
      },
      "source": [
        "## Business Objectives\n",
        "## The aim of analysis is to identify the root cause of the problem (i.e. cancellation and\n",
        "## non-availability of cars) and recommend ways to improve the situation. As a result of your\n",
        "## analysis, you should be able to present to the client the root cause(s) and possible hypotheses\n",
        "## of the problem(s) and recommend ways to improve them.\n",
        "\n",
        "## 1. Request id: A unique identifier of the request\n",
        "## 2. Time of request: The date and time at which the customer made the trip request\n",
        "## 3. Drop-off time: The drop-off date and time, in case the trip was completed\n",
        "## 4. Pick-up point: The point from which the request was made\n",
        "## 5. Driver id: The unique identification number of the driver\n",
        "## 6. Status of the request: The final status of the trip, that can be either completed, cancelled\n",
        "## by the driver or no cars available\n",
        "\n",
        "## Note: For this assignment, only the trips to and from the airport are being considered."
      ],
      "execution_count": 1,
      "outputs": []
    },
    {
      "cell_type": "markdown",
      "metadata": {
        "id": "J0Icg3eMNETA"
      },
      "source": [
        "# New Section"
      ]
    },
    {
      "cell_type": "code",
      "metadata": {
        "id": "VSUKrsX9g1tP"
      },
      "source": [
        "import pandas as pd"
      ],
      "execution_count": 2,
      "outputs": []
    },
    {
      "cell_type": "code",
      "metadata": {
        "id": "7UA-ylCOg5NZ"
      },
      "source": [
        "df=pd.read_csv(\"Uber Request Data.csv\")"
      ],
      "execution_count": 4,
      "outputs": []
    },
    {
      "cell_type": "code",
      "metadata": {
        "colab": {
          "base_uri": "https://localhost:8080/",
          "height": 357
        },
        "id": "WnhxeqgCg6ca",
        "outputId": "56004ef5-9ee4-4987-fe9a-de67e4237388"
      },
      "source": [
        "df.head(10)"
      ],
      "execution_count": 5,
      "outputs": [
        {
          "output_type": "execute_result",
          "data": {
            "text/html": [
              "<div>\n",
              "<style scoped>\n",
              "    .dataframe tbody tr th:only-of-type {\n",
              "        vertical-align: middle;\n",
              "    }\n",
              "\n",
              "    .dataframe tbody tr th {\n",
              "        vertical-align: top;\n",
              "    }\n",
              "\n",
              "    .dataframe thead th {\n",
              "        text-align: right;\n",
              "    }\n",
              "</style>\n",
              "<table border=\"1\" class=\"dataframe\">\n",
              "  <thead>\n",
              "    <tr style=\"text-align: right;\">\n",
              "      <th></th>\n",
              "      <th>Request id</th>\n",
              "      <th>Pickup point</th>\n",
              "      <th>Driver id</th>\n",
              "      <th>Status</th>\n",
              "      <th>Request timestamp</th>\n",
              "      <th>Drop timestamp</th>\n",
              "    </tr>\n",
              "  </thead>\n",
              "  <tbody>\n",
              "    <tr>\n",
              "      <th>0</th>\n",
              "      <td>619</td>\n",
              "      <td>Airport</td>\n",
              "      <td>1.0</td>\n",
              "      <td>Trip Completed</td>\n",
              "      <td>11/7/2016 11:51</td>\n",
              "      <td>11/7/2016 13:00</td>\n",
              "    </tr>\n",
              "    <tr>\n",
              "      <th>1</th>\n",
              "      <td>867</td>\n",
              "      <td>Airport</td>\n",
              "      <td>1.0</td>\n",
              "      <td>Trip Completed</td>\n",
              "      <td>11/7/2016 17:57</td>\n",
              "      <td>11/7/2016 18:47</td>\n",
              "    </tr>\n",
              "    <tr>\n",
              "      <th>2</th>\n",
              "      <td>1807</td>\n",
              "      <td>City</td>\n",
              "      <td>1.0</td>\n",
              "      <td>Trip Completed</td>\n",
              "      <td>12/7/2016 9:17</td>\n",
              "      <td>12/7/2016 9:58</td>\n",
              "    </tr>\n",
              "    <tr>\n",
              "      <th>3</th>\n",
              "      <td>2532</td>\n",
              "      <td>Airport</td>\n",
              "      <td>1.0</td>\n",
              "      <td>Trip Completed</td>\n",
              "      <td>12/7/2016 21:08</td>\n",
              "      <td>12/7/2016 22:03</td>\n",
              "    </tr>\n",
              "    <tr>\n",
              "      <th>4</th>\n",
              "      <td>3112</td>\n",
              "      <td>City</td>\n",
              "      <td>1.0</td>\n",
              "      <td>Trip Completed</td>\n",
              "      <td>13-07-2016 08:33:16</td>\n",
              "      <td>13-07-2016 09:25:47</td>\n",
              "    </tr>\n",
              "    <tr>\n",
              "      <th>5</th>\n",
              "      <td>3879</td>\n",
              "      <td>Airport</td>\n",
              "      <td>1.0</td>\n",
              "      <td>Trip Completed</td>\n",
              "      <td>13-07-2016 21:57:28</td>\n",
              "      <td>13-07-2016 22:28:59</td>\n",
              "    </tr>\n",
              "    <tr>\n",
              "      <th>6</th>\n",
              "      <td>4270</td>\n",
              "      <td>Airport</td>\n",
              "      <td>1.0</td>\n",
              "      <td>Trip Completed</td>\n",
              "      <td>14-07-2016 06:15:32</td>\n",
              "      <td>14-07-2016 07:13:15</td>\n",
              "    </tr>\n",
              "    <tr>\n",
              "      <th>7</th>\n",
              "      <td>5510</td>\n",
              "      <td>Airport</td>\n",
              "      <td>1.0</td>\n",
              "      <td>Trip Completed</td>\n",
              "      <td>15-07-2016 05:11:52</td>\n",
              "      <td>15-07-2016 06:07:52</td>\n",
              "    </tr>\n",
              "    <tr>\n",
              "      <th>8</th>\n",
              "      <td>6248</td>\n",
              "      <td>City</td>\n",
              "      <td>1.0</td>\n",
              "      <td>Trip Completed</td>\n",
              "      <td>15-07-2016 17:57:27</td>\n",
              "      <td>15-07-2016 18:50:51</td>\n",
              "    </tr>\n",
              "    <tr>\n",
              "      <th>9</th>\n",
              "      <td>267</td>\n",
              "      <td>City</td>\n",
              "      <td>2.0</td>\n",
              "      <td>Trip Completed</td>\n",
              "      <td>11/7/2016 6:46</td>\n",
              "      <td>11/7/2016 7:25</td>\n",
              "    </tr>\n",
              "  </tbody>\n",
              "</table>\n",
              "</div>"
            ],
            "text/plain": [
              "   Request id Pickup point  ...    Request timestamp       Drop timestamp\n",
              "0         619      Airport  ...      11/7/2016 11:51      11/7/2016 13:00\n",
              "1         867      Airport  ...      11/7/2016 17:57      11/7/2016 18:47\n",
              "2        1807         City  ...       12/7/2016 9:17       12/7/2016 9:58\n",
              "3        2532      Airport  ...      12/7/2016 21:08      12/7/2016 22:03\n",
              "4        3112         City  ...  13-07-2016 08:33:16  13-07-2016 09:25:47\n",
              "5        3879      Airport  ...  13-07-2016 21:57:28  13-07-2016 22:28:59\n",
              "6        4270      Airport  ...  14-07-2016 06:15:32  14-07-2016 07:13:15\n",
              "7        5510      Airport  ...  15-07-2016 05:11:52  15-07-2016 06:07:52\n",
              "8        6248         City  ...  15-07-2016 17:57:27  15-07-2016 18:50:51\n",
              "9         267         City  ...       11/7/2016 6:46       11/7/2016 7:25\n",
              "\n",
              "[10 rows x 6 columns]"
            ]
          },
          "metadata": {},
          "execution_count": 5
        }
      ]
    },
    {
      "cell_type": "code",
      "metadata": {
        "colab": {
          "base_uri": "https://localhost:8080/"
        },
        "id": "wU_kofebg678",
        "outputId": "e2d6dfc0-ffc9-423e-e301-0f3fcded4c51"
      },
      "source": [
        "## To check the unique records for Driver ID or Request ID\n",
        "len(df[\"Request id\"].unique())"
      ],
      "execution_count": 6,
      "outputs": [
        {
          "output_type": "execute_result",
          "data": {
            "text/plain": [
              "6745"
            ]
          },
          "metadata": {},
          "execution_count": 6
        }
      ]
    },
    {
      "cell_type": "code",
      "metadata": {
        "colab": {
          "base_uri": "https://localhost:8080/"
        },
        "id": "mSHdu5ryg7H0",
        "outputId": "f363ddea-a520-457c-e9cb-04b04490ca48"
      },
      "source": [
        "df.shape ## To check Dimension of the dataset"
      ],
      "execution_count": 7,
      "outputs": [
        {
          "output_type": "execute_result",
          "data": {
            "text/plain": [
              "(6745, 6)"
            ]
          },
          "metadata": {},
          "execution_count": 7
        }
      ]
    },
    {
      "cell_type": "code",
      "metadata": {
        "colab": {
          "base_uri": "https://localhost:8080/"
        },
        "id": "jZ4JXnlSg7jE",
        "outputId": "fb61fe16-b63d-41ce-b8b8-7a557aa9ba87"
      },
      "source": [
        "df.isnull().sum() ## To check total number of null values"
      ],
      "execution_count": 8,
      "outputs": [
        {
          "output_type": "execute_result",
          "data": {
            "text/plain": [
              "Request id              0\n",
              "Pickup point            0\n",
              "Driver id            2650\n",
              "Status                  0\n",
              "Request timestamp       0\n",
              "Drop timestamp       3914\n",
              "dtype: int64"
            ]
          },
          "metadata": {},
          "execution_count": 8
        }
      ]
    },
    {
      "cell_type": "code",
      "metadata": {
        "colab": {
          "base_uri": "https://localhost:8080/"
        },
        "id": "X7bMVg_pg7vn",
        "outputId": "b46babd8-32a0-4a4c-d291-551dd232169c"
      },
      "source": [
        "## To get the percentage of the null values\n",
        "df.isnull().sum()/df.shape[0]*100"
      ],
      "execution_count": 9,
      "outputs": [
        {
          "output_type": "execute_result",
          "data": {
            "text/plain": [
              "Request id            0.000000\n",
              "Pickup point          0.000000\n",
              "Driver id            39.288362\n",
              "Status                0.000000\n",
              "Request timestamp     0.000000\n",
              "Drop timestamp       58.028169\n",
              "dtype: float64"
            ]
          },
          "metadata": {},
          "execution_count": 9
        }
      ]
    },
    {
      "cell_type": "code",
      "metadata": {
        "colab": {
          "base_uri": "https://localhost:8080/"
        },
        "id": "BijKZxs5g8SM",
        "outputId": "e5cac5fc-f231-4ba7-bcaa-92f58a322cf8"
      },
      "source": [
        "df.info()"
      ],
      "execution_count": 10,
      "outputs": [
        {
          "output_type": "stream",
          "text": [
            "<class 'pandas.core.frame.DataFrame'>\n",
            "RangeIndex: 6745 entries, 0 to 6744\n",
            "Data columns (total 6 columns):\n",
            " #   Column             Non-Null Count  Dtype  \n",
            "---  ------             --------------  -----  \n",
            " 0   Request id         6745 non-null   int64  \n",
            " 1   Pickup point       6745 non-null   object \n",
            " 2   Driver id          4095 non-null   float64\n",
            " 3   Status             6745 non-null   object \n",
            " 4   Request timestamp  6745 non-null   object \n",
            " 5   Drop timestamp     2831 non-null   object \n",
            "dtypes: float64(1), int64(1), object(4)\n",
            "memory usage: 316.3+ KB\n"
          ],
          "name": "stdout"
        }
      ]
    },
    {
      "cell_type": "markdown",
      "metadata": {
        "id": "ZmkwUbd0f0fa"
      },
      "source": [
        ""
      ]
    },
    {
      "cell_type": "code",
      "metadata": {
        "colab": {
          "base_uri": "https://localhost:8080/"
        },
        "id": "xxDiJ8Qrg76k",
        "outputId": "a39841a9-094f-4952-f64a-cc0a2791b574"
      },
      "source": [
        "## Request timestamp and Drop timestamp need to convert into datetime format\n",
        "df[\"Request timestamp\"].value_counts() ## Data is not consistant here. So we need to change the - into /"
      ],
      "execution_count": 11,
      "outputs": [
        {
          "output_type": "execute_result",
          "data": {
            "text/plain": [
              "11/7/2016 19:02        6\n",
              "11/7/2016 9:40         6\n",
              "11/7/2016 8:37         6\n",
              "11/7/2016 17:57        6\n",
              "12/7/2016 21:07        5\n",
              "                      ..\n",
              "13-07-2016 20:57:49    1\n",
              "15-07-2016 18:22:01    1\n",
              "15-07-2016 22:02:01    1\n",
              "12/7/2016 4:05         1\n",
              "11/7/2016 4:49         1\n",
              "Name: Request timestamp, Length: 5618, dtype: int64"
            ]
          },
          "metadata": {},
          "execution_count": 11
        }
      ]
    },
    {
      "cell_type": "code",
      "metadata": {
        "colab": {
          "base_uri": "https://localhost:8080/"
        },
        "id": "p3a-E0POjtnA",
        "outputId": "2bfb01a8-c32b-4893-d01a-4456374b5782"
      },
      "source": [
        "pd.to_datetime(df[\"Request timestamp\"]) ## data type has been changed to datetime64"
      ],
      "execution_count": 12,
      "outputs": [
        {
          "output_type": "execute_result",
          "data": {
            "text/plain": [
              "0      2016-11-07 11:51:00\n",
              "1      2016-11-07 17:57:00\n",
              "2      2016-12-07 09:17:00\n",
              "3      2016-12-07 21:08:00\n",
              "4      2016-07-13 08:33:16\n",
              "               ...        \n",
              "6740   2016-07-15 23:49:03\n",
              "6741   2016-07-15 23:50:05\n",
              "6742   2016-07-15 23:52:06\n",
              "6743   2016-07-15 23:54:39\n",
              "6744   2016-07-15 23:55:03\n",
              "Name: Request timestamp, Length: 6745, dtype: datetime64[ns]"
            ]
          },
          "metadata": {},
          "execution_count": 12
        }
      ]
    },
    {
      "cell_type": "code",
      "metadata": {
        "id": "Ff9LARTTN2Rv"
      },
      "source": [
        "df[\"Request timestamp\"]=df[\"Request timestamp\"].astype(str) ## Change the variable type"
      ],
      "execution_count": 13,
      "outputs": []
    },
    {
      "cell_type": "code",
      "metadata": {
        "colab": {
          "base_uri": "https://localhost:8080/"
        },
        "id": "GzWohLgLN_l9",
        "outputId": "e5aef348-862c-43d7-f920-afd98926cc30"
      },
      "source": [
        "pd.to_datetime(df[\"Request timestamp\"]).replace(\"/\", \"-\")"
      ],
      "execution_count": 14,
      "outputs": [
        {
          "output_type": "execute_result",
          "data": {
            "text/plain": [
              "0      2016-11-07 11:51:00\n",
              "1      2016-11-07 17:57:00\n",
              "2      2016-12-07 09:17:00\n",
              "3      2016-12-07 21:08:00\n",
              "4      2016-07-13 08:33:16\n",
              "               ...        \n",
              "6740   2016-07-15 23:49:03\n",
              "6741   2016-07-15 23:50:05\n",
              "6742   2016-07-15 23:52:06\n",
              "6743   2016-07-15 23:54:39\n",
              "6744   2016-07-15 23:55:03\n",
              "Name: Request timestamp, Length: 6745, dtype: datetime64[ns]"
            ]
          },
          "metadata": {},
          "execution_count": 14
        }
      ]
    },
    {
      "cell_type": "code",
      "metadata": {
        "id": "MVnVosO-jtxs"
      },
      "source": [
        "df[\"Request timestamp\"]=pd.to_datetime(df[\"Request timestamp\"], dayfirst=True)"
      ],
      "execution_count": 15,
      "outputs": []
    },
    {
      "cell_type": "code",
      "metadata": {
        "id": "Llb4vdAnjt3e",
        "colab": {
          "base_uri": "https://localhost:8080/"
        },
        "outputId": "a603895c-c54f-487e-ff69-04252ab7a54d"
      },
      "source": [
        "df[\"Drop timestamp\"].value_counts() ## Data is not consistant here. So we need to change the - into /"
      ],
      "execution_count": 16,
      "outputs": [
        {
          "output_type": "execute_result",
          "data": {
            "text/plain": [
              "12/7/2016 21:04        4\n",
              "11/7/2016 13:00        4\n",
              "12/7/2016 21:53        4\n",
              "12/7/2016 6:22         4\n",
              "12/7/2016 22:51        3\n",
              "                      ..\n",
              "13-07-2016 14:37:56    1\n",
              "11/7/2016 7:17         1\n",
              "14-07-2016 03:44:55    1\n",
              "12/7/2016 16:38        1\n",
              "14-07-2016 22:30:11    1\n",
              "Name: Drop timestamp, Length: 2598, dtype: int64"
            ]
          },
          "metadata": {},
          "execution_count": 16
        }
      ]
    },
    {
      "cell_type": "code",
      "metadata": {
        "id": "gxaQURnRjt9C",
        "colab": {
          "base_uri": "https://localhost:8080/"
        },
        "outputId": "fcee5608-aa33-4947-caa4-d21b9798a3ef"
      },
      "source": [
        "pd.to_datetime(df[\"Drop timestamp\"]) ## data type has been changed to datetime64"
      ],
      "execution_count": 17,
      "outputs": [
        {
          "output_type": "execute_result",
          "data": {
            "text/plain": [
              "0      2016-11-07 13:00:00\n",
              "1      2016-11-07 18:47:00\n",
              "2      2016-12-07 09:58:00\n",
              "3      2016-12-07 22:03:00\n",
              "4      2016-07-13 09:25:47\n",
              "               ...        \n",
              "6740                   NaT\n",
              "6741                   NaT\n",
              "6742                   NaT\n",
              "6743                   NaT\n",
              "6744                   NaT\n",
              "Name: Drop timestamp, Length: 6745, dtype: datetime64[ns]"
            ]
          },
          "metadata": {},
          "execution_count": 17
        }
      ]
    },
    {
      "cell_type": "code",
      "metadata": {
        "id": "NcdVbr4OjuBw"
      },
      "source": [
        "df[\"Drop timestamp\"]=df[\"Drop timestamp\"].astype(str) ## Change the variable type"
      ],
      "execution_count": 18,
      "outputs": []
    },
    {
      "cell_type": "code",
      "metadata": {
        "id": "7Jhm3lI4juF8",
        "colab": {
          "base_uri": "https://localhost:8080/"
        },
        "outputId": "8d480895-bc4a-49a2-d393-830147d9f3d3"
      },
      "source": [
        "pd.to_datetime(df[\"Drop timestamp\"]).replace(\"/\", \"-\")"
      ],
      "execution_count": 19,
      "outputs": [
        {
          "output_type": "execute_result",
          "data": {
            "text/plain": [
              "0      2016-11-07 13:00:00\n",
              "1      2016-11-07 18:47:00\n",
              "2      2016-12-07 09:58:00\n",
              "3      2016-12-07 22:03:00\n",
              "4      2016-07-13 09:25:47\n",
              "               ...        \n",
              "6740                   NaT\n",
              "6741                   NaT\n",
              "6742                   NaT\n",
              "6743                   NaT\n",
              "6744                   NaT\n",
              "Name: Drop timestamp, Length: 6745, dtype: datetime64[ns]"
            ]
          },
          "metadata": {},
          "execution_count": 19
        }
      ]
    },
    {
      "cell_type": "code",
      "metadata": {
        "id": "aE9OmM3ijuKR"
      },
      "source": [
        "df[\"Drop timestamp\"]=pd.to_datetime(df[\"Drop timestamp\"], dayfirst=True)"
      ],
      "execution_count": 20,
      "outputs": []
    },
    {
      "cell_type": "code",
      "metadata": {
        "id": "58xk-FSujuN7",
        "colab": {
          "base_uri": "https://localhost:8080/"
        },
        "outputId": "a51b885c-9f63-4b60-f482-cfc670c6a618"
      },
      "source": [
        "df.info()"
      ],
      "execution_count": 21,
      "outputs": [
        {
          "output_type": "stream",
          "text": [
            "<class 'pandas.core.frame.DataFrame'>\n",
            "RangeIndex: 6745 entries, 0 to 6744\n",
            "Data columns (total 6 columns):\n",
            " #   Column             Non-Null Count  Dtype         \n",
            "---  ------             --------------  -----         \n",
            " 0   Request id         6745 non-null   int64         \n",
            " 1   Pickup point       6745 non-null   object        \n",
            " 2   Driver id          4095 non-null   float64       \n",
            " 3   Status             6745 non-null   object        \n",
            " 4   Request timestamp  6745 non-null   datetime64[ns]\n",
            " 5   Drop timestamp     2831 non-null   datetime64[ns]\n",
            "dtypes: datetime64[ns](2), float64(1), int64(1), object(2)\n",
            "memory usage: 316.3+ KB\n"
          ],
          "name": "stdout"
        }
      ]
    },
    {
      "cell_type": "code",
      "metadata": {
        "id": "BOA_LkD2juR0"
      },
      "source": [
        "## To Fetch hours from variable Request timestamp\n",
        "req_hour=df[\"Request timestamp\"].dt.hour"
      ],
      "execution_count": 22,
      "outputs": []
    },
    {
      "cell_type": "code",
      "metadata": {
        "id": "hNo01gKdjuVw",
        "colab": {
          "base_uri": "https://localhost:8080/"
        },
        "outputId": "e7b6b106-e139-4649-8085-d92d3eb686ac"
      },
      "source": [
        "req_hour"
      ],
      "execution_count": 23,
      "outputs": [
        {
          "output_type": "execute_result",
          "data": {
            "text/plain": [
              "0       11\n",
              "1       17\n",
              "2        9\n",
              "3       21\n",
              "4        8\n",
              "        ..\n",
              "6740    23\n",
              "6741    23\n",
              "6742    23\n",
              "6743    23\n",
              "6744    23\n",
              "Name: Request timestamp, Length: 6745, dtype: int64"
            ]
          },
          "metadata": {},
          "execution_count": 23
        }
      ]
    },
    {
      "cell_type": "code",
      "metadata": {
        "id": "7PKHvwNEjuZv",
        "colab": {
          "base_uri": "https://localhost:8080/"
        },
        "outputId": "469044b0-e85c-4e6c-bc39-b2dac102c258"
      },
      "source": [
        "len(req_hour)"
      ],
      "execution_count": 24,
      "outputs": [
        {
          "output_type": "execute_result",
          "data": {
            "text/plain": [
              "6745"
            ]
          },
          "metadata": {},
          "execution_count": 24
        }
      ]
    },
    {
      "cell_type": "code",
      "metadata": {
        "id": "fC51R_yIjud6"
      },
      "source": [
        "df[\"req_hour\"]=req_hour"
      ],
      "execution_count": 25,
      "outputs": []
    },
    {
      "cell_type": "code",
      "metadata": {
        "id": "0TSUUDfQjuhb",
        "colab": {
          "base_uri": "https://localhost:8080/",
          "height": 203
        },
        "outputId": "e40e5303-3262-4cfe-9639-bd514491c54e"
      },
      "source": [
        "df.head()"
      ],
      "execution_count": 26,
      "outputs": [
        {
          "output_type": "execute_result",
          "data": {
            "text/html": [
              "<div>\n",
              "<style scoped>\n",
              "    .dataframe tbody tr th:only-of-type {\n",
              "        vertical-align: middle;\n",
              "    }\n",
              "\n",
              "    .dataframe tbody tr th {\n",
              "        vertical-align: top;\n",
              "    }\n",
              "\n",
              "    .dataframe thead th {\n",
              "        text-align: right;\n",
              "    }\n",
              "</style>\n",
              "<table border=\"1\" class=\"dataframe\">\n",
              "  <thead>\n",
              "    <tr style=\"text-align: right;\">\n",
              "      <th></th>\n",
              "      <th>Request id</th>\n",
              "      <th>Pickup point</th>\n",
              "      <th>Driver id</th>\n",
              "      <th>Status</th>\n",
              "      <th>Request timestamp</th>\n",
              "      <th>Drop timestamp</th>\n",
              "      <th>req_hour</th>\n",
              "    </tr>\n",
              "  </thead>\n",
              "  <tbody>\n",
              "    <tr>\n",
              "      <th>0</th>\n",
              "      <td>619</td>\n",
              "      <td>Airport</td>\n",
              "      <td>1.0</td>\n",
              "      <td>Trip Completed</td>\n",
              "      <td>2016-07-11 11:51:00</td>\n",
              "      <td>2016-07-11 13:00:00</td>\n",
              "      <td>11</td>\n",
              "    </tr>\n",
              "    <tr>\n",
              "      <th>1</th>\n",
              "      <td>867</td>\n",
              "      <td>Airport</td>\n",
              "      <td>1.0</td>\n",
              "      <td>Trip Completed</td>\n",
              "      <td>2016-07-11 17:57:00</td>\n",
              "      <td>2016-07-11 18:47:00</td>\n",
              "      <td>17</td>\n",
              "    </tr>\n",
              "    <tr>\n",
              "      <th>2</th>\n",
              "      <td>1807</td>\n",
              "      <td>City</td>\n",
              "      <td>1.0</td>\n",
              "      <td>Trip Completed</td>\n",
              "      <td>2016-07-12 09:17:00</td>\n",
              "      <td>2016-07-12 09:58:00</td>\n",
              "      <td>9</td>\n",
              "    </tr>\n",
              "    <tr>\n",
              "      <th>3</th>\n",
              "      <td>2532</td>\n",
              "      <td>Airport</td>\n",
              "      <td>1.0</td>\n",
              "      <td>Trip Completed</td>\n",
              "      <td>2016-07-12 21:08:00</td>\n",
              "      <td>2016-07-12 22:03:00</td>\n",
              "      <td>21</td>\n",
              "    </tr>\n",
              "    <tr>\n",
              "      <th>4</th>\n",
              "      <td>3112</td>\n",
              "      <td>City</td>\n",
              "      <td>1.0</td>\n",
              "      <td>Trip Completed</td>\n",
              "      <td>2016-07-13 08:33:16</td>\n",
              "      <td>2016-07-13 09:25:47</td>\n",
              "      <td>8</td>\n",
              "    </tr>\n",
              "  </tbody>\n",
              "</table>\n",
              "</div>"
            ],
            "text/plain": [
              "   Request id Pickup point  ...      Drop timestamp req_hour\n",
              "0         619      Airport  ... 2016-07-11 13:00:00       11\n",
              "1         867      Airport  ... 2016-07-11 18:47:00       17\n",
              "2        1807         City  ... 2016-07-12 09:58:00        9\n",
              "3        2532      Airport  ... 2016-07-12 22:03:00       21\n",
              "4        3112         City  ... 2016-07-13 09:25:47        8\n",
              "\n",
              "[5 rows x 7 columns]"
            ]
          },
          "metadata": {},
          "execution_count": 26
        }
      ]
    },
    {
      "cell_type": "code",
      "metadata": {
        "id": "vmRw28QcjulQ",
        "colab": {
          "base_uri": "https://localhost:8080/"
        },
        "outputId": "6a118195-08c8-487c-c6c9-80ba02fc077a"
      },
      "source": [
        "## To Fetch day from variable Request timestamp\n",
        "req_day=df[\"Request timestamp\"].dt.day\n",
        "req_day"
      ],
      "execution_count": 29,
      "outputs": [
        {
          "output_type": "execute_result",
          "data": {
            "text/plain": [
              "0       11\n",
              "1       11\n",
              "2       12\n",
              "3       12\n",
              "4       13\n",
              "        ..\n",
              "6740    15\n",
              "6741    15\n",
              "6742    15\n",
              "6743    15\n",
              "6744    15\n",
              "Name: Request timestamp, Length: 6745, dtype: int64"
            ]
          },
          "metadata": {},
          "execution_count": 29
        }
      ]
    },
    {
      "cell_type": "code",
      "metadata": {
        "id": "CG_citWrjupJ",
        "colab": {
          "base_uri": "https://localhost:8080/"
        },
        "outputId": "cb40b23f-78b1-474c-ad73-5191a2ee69ed"
      },
      "source": [
        "len(req_day)"
      ],
      "execution_count": 30,
      "outputs": [
        {
          "output_type": "execute_result",
          "data": {
            "text/plain": [
              "6745"
            ]
          },
          "metadata": {},
          "execution_count": 30
        }
      ]
    },
    {
      "cell_type": "code",
      "metadata": {
        "id": "NuOpMeGsjusx",
        "colab": {
          "base_uri": "https://localhost:8080/",
          "height": 203
        },
        "outputId": "0c104352-dedb-4378-b97b-41be75ec4fd4"
      },
      "source": [
        "df[\"req_day\"]=req_day\n",
        "df.head()"
      ],
      "execution_count": 31,
      "outputs": [
        {
          "output_type": "execute_result",
          "data": {
            "text/html": [
              "<div>\n",
              "<style scoped>\n",
              "    .dataframe tbody tr th:only-of-type {\n",
              "        vertical-align: middle;\n",
              "    }\n",
              "\n",
              "    .dataframe tbody tr th {\n",
              "        vertical-align: top;\n",
              "    }\n",
              "\n",
              "    .dataframe thead th {\n",
              "        text-align: right;\n",
              "    }\n",
              "</style>\n",
              "<table border=\"1\" class=\"dataframe\">\n",
              "  <thead>\n",
              "    <tr style=\"text-align: right;\">\n",
              "      <th></th>\n",
              "      <th>Request id</th>\n",
              "      <th>Pickup point</th>\n",
              "      <th>Driver id</th>\n",
              "      <th>Status</th>\n",
              "      <th>Request timestamp</th>\n",
              "      <th>Drop timestamp</th>\n",
              "      <th>req_hour</th>\n",
              "      <th>req_day</th>\n",
              "    </tr>\n",
              "  </thead>\n",
              "  <tbody>\n",
              "    <tr>\n",
              "      <th>0</th>\n",
              "      <td>619</td>\n",
              "      <td>Airport</td>\n",
              "      <td>1.0</td>\n",
              "      <td>Trip Completed</td>\n",
              "      <td>2016-07-11 11:51:00</td>\n",
              "      <td>2016-07-11 13:00:00</td>\n",
              "      <td>11</td>\n",
              "      <td>11</td>\n",
              "    </tr>\n",
              "    <tr>\n",
              "      <th>1</th>\n",
              "      <td>867</td>\n",
              "      <td>Airport</td>\n",
              "      <td>1.0</td>\n",
              "      <td>Trip Completed</td>\n",
              "      <td>2016-07-11 17:57:00</td>\n",
              "      <td>2016-07-11 18:47:00</td>\n",
              "      <td>17</td>\n",
              "      <td>11</td>\n",
              "    </tr>\n",
              "    <tr>\n",
              "      <th>2</th>\n",
              "      <td>1807</td>\n",
              "      <td>City</td>\n",
              "      <td>1.0</td>\n",
              "      <td>Trip Completed</td>\n",
              "      <td>2016-07-12 09:17:00</td>\n",
              "      <td>2016-07-12 09:58:00</td>\n",
              "      <td>9</td>\n",
              "      <td>12</td>\n",
              "    </tr>\n",
              "    <tr>\n",
              "      <th>3</th>\n",
              "      <td>2532</td>\n",
              "      <td>Airport</td>\n",
              "      <td>1.0</td>\n",
              "      <td>Trip Completed</td>\n",
              "      <td>2016-07-12 21:08:00</td>\n",
              "      <td>2016-07-12 22:03:00</td>\n",
              "      <td>21</td>\n",
              "      <td>12</td>\n",
              "    </tr>\n",
              "    <tr>\n",
              "      <th>4</th>\n",
              "      <td>3112</td>\n",
              "      <td>City</td>\n",
              "      <td>1.0</td>\n",
              "      <td>Trip Completed</td>\n",
              "      <td>2016-07-13 08:33:16</td>\n",
              "      <td>2016-07-13 09:25:47</td>\n",
              "      <td>8</td>\n",
              "      <td>13</td>\n",
              "    </tr>\n",
              "  </tbody>\n",
              "</table>\n",
              "</div>"
            ],
            "text/plain": [
              "   Request id Pickup point  Driver id  ...      Drop timestamp req_hour req_day\n",
              "0         619      Airport        1.0  ... 2016-07-11 13:00:00       11      11\n",
              "1         867      Airport        1.0  ... 2016-07-11 18:47:00       17      11\n",
              "2        1807         City        1.0  ... 2016-07-12 09:58:00        9      12\n",
              "3        2532      Airport        1.0  ... 2016-07-12 22:03:00       21      12\n",
              "4        3112         City        1.0  ... 2016-07-13 09:25:47        8      13\n",
              "\n",
              "[5 rows x 8 columns]"
            ]
          },
          "metadata": {},
          "execution_count": 31
        }
      ]
    },
    {
      "cell_type": "code",
      "metadata": {
        "id": "OwMxduIxjuwa"
      },
      "source": [
        "## Importing seaborn\n",
        "import seaborn as sns\n",
        "import matplotlib.pyplot as plt"
      ],
      "execution_count": 35,
      "outputs": []
    },
    {
      "cell_type": "code",
      "metadata": {
        "colab": {
          "base_uri": "https://localhost:8080/",
          "height": 280
        },
        "id": "BK2rpxMsQxQt",
        "outputId": "7fa635b4-fc3c-4d4b-88df-a8a8b0955824"
      },
      "source": [
        "sns.countplot(x=\"req_hour\", data=df, hue=\"Status\")\n",
        "plt.show()"
      ],
      "execution_count": 37,
      "outputs": [
        {
          "output_type": "display_data",
          "data": {
            "image/png": "[encoded data removed]",
            "text/plain": [
              "<Figure size 432x288 with 1 Axes>"
            ]
          },
          "metadata": {
            "needs_background": "light"
          }
        }
      ]
    },
    {
      "cell_type": "code",
      "metadata": {
        "id": "0Ve6DxHIju0F"
      },
      "source": [
        "## From the above graph we can clearly see that mostly No Cars Available in evening and night after 5 PM  "
      ],
      "execution_count": null,
      "outputs": []
    },
    {
      "cell_type": "code",
      "metadata": {
        "id": "qTlW6z87ju4M",
        "colab": {
          "base_uri": "https://localhost:8080/",
          "height": 1000
        },
        "outputId": "7c51f38b-e073-4b9f-c69a-9c7bf352fa6f"
      },
      "source": [
        "## Lets look at the same graph day wise also to check the trend\n",
        "sns.factorplot(x=\"req_hour\", data=df, hue=\"Status\", kind=\"count\", row=\"req_day\")\n",
        "plt.show()"
      ],
      "execution_count": 38,
      "outputs": [
        {
          "output_type": "stream",
          "text": [
            "/usr/local/lib/python3.7/dist-packages/seaborn/categorical.py:3714: UserWarning: The `factorplot` function has been renamed to `catplot`. The original name will be removed in a future release. Please update your code. Note that the default `kind` in `factorplot` (`'point'`) has changed `'strip'` in `catplot`.\n",
            "  warnings.warn(msg)\n"
          ],
          "name": "stderr"
        },
        {
          "output_type": "display_data",
          "data": {
            "image/png": "[encoded data removed]",
            "text/plain": [
              "<Figure size 483.5x1800 with 5 Axes>"
            ]
          },
          "metadata": {
            "needs_background": "light"
          }
        }
      ]
    },
    {
      "cell_type": "code",
      "metadata": {
        "id": "oPE6NOucju8C"
      },
      "source": [
        "## We can see that No Cars Available after 5 pm till midnight for each day"
      ],
      "execution_count": null,
      "outputs": []
    },
    {
      "cell_type": "code",
      "metadata": {
        "id": "A0mKQcv9ju_i",
        "colab": {
          "base_uri": "https://localhost:8080/",
          "height": 1000
        },
        "outputId": "05f230e9-1869-4a6b-e6d9-398922e65055"
      },
      "source": [
        "## To analyse the data based on Pickup Point\n",
        "sns.factorplot(x=\"req_hour\", data=df, hue=\"Pickup point\", kind=\"count\", row=\"req_day\")\n",
        "plt.show()"
      ],
      "execution_count": 39,
      "outputs": [
        {
          "output_type": "stream",
          "text": [
            "/usr/local/lib/python3.7/dist-packages/seaborn/categorical.py:3714: UserWarning: The `factorplot` function has been renamed to `catplot`. The original name will be removed in a future release. Please update your code. Note that the default `kind` in `factorplot` (`'point'`) has changed `'strip'` in `catplot`.\n",
            "  warnings.warn(msg)\n"
          ],
          "name": "stderr"
        },
        {
          "output_type": "display_data",
          "data": {
            "image/png": "[encoded data removed]",
            "text/plain": [
              "<Figure size 430.125x1800 with 5 Axes>"
            ]
          },
          "metadata": {
            "needs_background": "light"
          }
        }
      ]
    },
    {
      "cell_type": "code",
      "metadata": {
        "id": "hpPt8PdpjvDk"
      },
      "source": [
        "## It seems that in the Night Airport has more request for cabs and during the day City requires more cabs"
      ],
      "execution_count": null,
      "outputs": []
    },
    {
      "cell_type": "code",
      "metadata": {
        "id": "8gIiF899jvG_",
        "colab": {
          "base_uri": "https://localhost:8080/",
          "height": 438
        },
        "outputId": "b989ad0c-d345-46fa-f56f-f88e8080133f"
      },
      "source": [
        "## To analyse the data based on Pickup Point in Total\n",
        "sns.factorplot(x=\"req_hour\", data=df, hue=\"Pickup point\", kind=\"count\")\n",
        "plt.show()"
      ],
      "execution_count": 40,
      "outputs": [
        {
          "output_type": "stream",
          "text": [
            "/usr/local/lib/python3.7/dist-packages/seaborn/categorical.py:3714: UserWarning: The `factorplot` function has been renamed to `catplot`. The original name will be removed in a future release. Please update your code. Note that the default `kind` in `factorplot` (`'point'`) has changed `'strip'` in `catplot`.\n",
            "  warnings.warn(msg)\n"
          ],
          "name": "stderr"
        },
        {
          "output_type": "display_data",
          "data": {
            "image/png": "[encoded data removed]",
            "text/plain": [
              "<Figure size 430.125x360 with 1 Axes>"
            ]
          },
          "metadata": {
            "needs_background": "light"
          }
        }
      ]
    },
    {
      "cell_type": "code",
      "metadata": {
        "colab": {
          "base_uri": "https://localhost:8080/",
          "height": 203
        },
        "id": "lb89cUV7W8fm",
        "outputId": "20d8e92e-1cd2-4430-f32d-ae139d51140d"
      },
      "source": [
        "df[\"Time_Slot\"]=0\n",
        "df.head()"
      ],
      "execution_count": 43,
      "outputs": [
        {
          "output_type": "execute_result",
          "data": {
            "text/html": [
              "<div>\n",
              "<style scoped>\n",
              "    .dataframe tbody tr th:only-of-type {\n",
              "        vertical-align: middle;\n",
              "    }\n",
              "\n",
              "    .dataframe tbody tr th {\n",
              "        vertical-align: top;\n",
              "    }\n",
              "\n",
              "    .dataframe thead th {\n",
              "        text-align: right;\n",
              "    }\n",
              "</style>\n",
              "<table border=\"1\" class=\"dataframe\">\n",
              "  <thead>\n",
              "    <tr style=\"text-align: right;\">\n",
              "      <th></th>\n",
              "      <th>Request id</th>\n",
              "      <th>Pickup point</th>\n",
              "      <th>Driver id</th>\n",
              "      <th>Status</th>\n",
              "      <th>Request timestamp</th>\n",
              "      <th>Drop timestamp</th>\n",
              "      <th>req_hour</th>\n",
              "      <th>req_day</th>\n",
              "      <th>Time_Slot</th>\n",
              "    </tr>\n",
              "  </thead>\n",
              "  <tbody>\n",
              "    <tr>\n",
              "      <th>0</th>\n",
              "      <td>619</td>\n",
              "      <td>Airport</td>\n",
              "      <td>1.0</td>\n",
              "      <td>Trip Completed</td>\n",
              "      <td>2016-07-11 11:51:00</td>\n",
              "      <td>2016-07-11 13:00:00</td>\n",
              "      <td>11</td>\n",
              "      <td>11</td>\n",
              "      <td>0</td>\n",
              "    </tr>\n",
              "    <tr>\n",
              "      <th>1</th>\n",
              "      <td>867</td>\n",
              "      <td>Airport</td>\n",
              "      <td>1.0</td>\n",
              "      <td>Trip Completed</td>\n",
              "      <td>2016-07-11 17:57:00</td>\n",
              "      <td>2016-07-11 18:47:00</td>\n",
              "      <td>17</td>\n",
              "      <td>11</td>\n",
              "      <td>0</td>\n",
              "    </tr>\n",
              "    <tr>\n",
              "      <th>2</th>\n",
              "      <td>1807</td>\n",
              "      <td>City</td>\n",
              "      <td>1.0</td>\n",
              "      <td>Trip Completed</td>\n",
              "      <td>2016-07-12 09:17:00</td>\n",
              "      <td>2016-07-12 09:58:00</td>\n",
              "      <td>9</td>\n",
              "      <td>12</td>\n",
              "      <td>0</td>\n",
              "    </tr>\n",
              "    <tr>\n",
              "      <th>3</th>\n",
              "      <td>2532</td>\n",
              "      <td>Airport</td>\n",
              "      <td>1.0</td>\n",
              "      <td>Trip Completed</td>\n",
              "      <td>2016-07-12 21:08:00</td>\n",
              "      <td>2016-07-12 22:03:00</td>\n",
              "      <td>21</td>\n",
              "      <td>12</td>\n",
              "      <td>0</td>\n",
              "    </tr>\n",
              "    <tr>\n",
              "      <th>4</th>\n",
              "      <td>3112</td>\n",
              "      <td>City</td>\n",
              "      <td>1.0</td>\n",
              "      <td>Trip Completed</td>\n",
              "      <td>2016-07-13 08:33:16</td>\n",
              "      <td>2016-07-13 09:25:47</td>\n",
              "      <td>8</td>\n",
              "      <td>13</td>\n",
              "      <td>0</td>\n",
              "    </tr>\n",
              "  </tbody>\n",
              "</table>\n",
              "</div>"
            ],
            "text/plain": [
              "   Request id Pickup point  Driver id  ... req_hour req_day Time_Slot\n",
              "0         619      Airport        1.0  ...       11      11         0\n",
              "1         867      Airport        1.0  ...       17      11         0\n",
              "2        1807         City        1.0  ...        9      12         0\n",
              "3        2532      Airport        1.0  ...       21      12         0\n",
              "4        3112         City        1.0  ...        8      13         0\n",
              "\n",
              "[5 rows x 9 columns]"
            ]
          },
          "metadata": {},
          "execution_count": 43
        }
      ]
    },
    {
      "cell_type": "code",
      "metadata": {
        "id": "fqYFqmluQyKZ"
      },
      "source": [
        "\n",
        "## We will create groups based on req_hour because no column has been given\n",
        "j=0\n",
        "for i in df[\"req_hour\"]:\n",
        "  if df.iloc[j,6]<5:\n",
        "    df.iloc[j,8]=\"Pre Morning\"\n",
        "  elif 5<=df.iloc[j,6]<10:\n",
        "    df.iloc[j,8]=\"Morning Rush\"\n",
        "  elif 10<=df.iloc[j,6]<17:\n",
        "    df.iloc[j,8]=\"Day Time\"\n",
        "  elif 17<=df.iloc[j,6]<22:\n",
        "    df.iloc[j,8]=\"Evening Rush\"\n",
        "  else:\n",
        "    df.iloc[j,8]=\"Late Night\"\n",
        "\n",
        "  j = j + 1\n"
      ],
      "execution_count": 47,
      "outputs": []
    },
    {
      "cell_type": "code",
      "metadata": {
        "colab": {
          "base_uri": "https://localhost:8080/",
          "height": 203
        },
        "id": "CHHMyJ6SQyOz",
        "outputId": "80defaed-b02a-4a3c-c08d-f66f75a37f04"
      },
      "source": [
        "df.head()"
      ],
      "execution_count": 48,
      "outputs": [
        {
          "output_type": "execute_result",
          "data": {
            "text/html": [
              "<div>\n",
              "<style scoped>\n",
              "    .dataframe tbody tr th:only-of-type {\n",
              "        vertical-align: middle;\n",
              "    }\n",
              "\n",
              "    .dataframe tbody tr th {\n",
              "        vertical-align: top;\n",
              "    }\n",
              "\n",
              "    .dataframe thead th {\n",
              "        text-align: right;\n",
              "    }\n",
              "</style>\n",
              "<table border=\"1\" class=\"dataframe\">\n",
              "  <thead>\n",
              "    <tr style=\"text-align: right;\">\n",
              "      <th></th>\n",
              "      <th>Request id</th>\n",
              "      <th>Pickup point</th>\n",
              "      <th>Driver id</th>\n",
              "      <th>Status</th>\n",
              "      <th>Request timestamp</th>\n",
              "      <th>Drop timestamp</th>\n",
              "      <th>req_hour</th>\n",
              "      <th>req_day</th>\n",
              "      <th>Time_Slot</th>\n",
              "    </tr>\n",
              "  </thead>\n",
              "  <tbody>\n",
              "    <tr>\n",
              "      <th>0</th>\n",
              "      <td>619</td>\n",
              "      <td>Airport</td>\n",
              "      <td>1.0</td>\n",
              "      <td>Trip Completed</td>\n",
              "      <td>2016-07-11 11:51:00</td>\n",
              "      <td>2016-07-11 13:00:00</td>\n",
              "      <td>11</td>\n",
              "      <td>11</td>\n",
              "      <td>Day Time</td>\n",
              "    </tr>\n",
              "    <tr>\n",
              "      <th>1</th>\n",
              "      <td>867</td>\n",
              "      <td>Airport</td>\n",
              "      <td>1.0</td>\n",
              "      <td>Trip Completed</td>\n",
              "      <td>2016-07-11 17:57:00</td>\n",
              "      <td>2016-07-11 18:47:00</td>\n",
              "      <td>17</td>\n",
              "      <td>11</td>\n",
              "      <td>Evening Rush</td>\n",
              "    </tr>\n",
              "    <tr>\n",
              "      <th>2</th>\n",
              "      <td>1807</td>\n",
              "      <td>City</td>\n",
              "      <td>1.0</td>\n",
              "      <td>Trip Completed</td>\n",
              "      <td>2016-07-12 09:17:00</td>\n",
              "      <td>2016-07-12 09:58:00</td>\n",
              "      <td>9</td>\n",
              "      <td>12</td>\n",
              "      <td>Morning Rush</td>\n",
              "    </tr>\n",
              "    <tr>\n",
              "      <th>3</th>\n",
              "      <td>2532</td>\n",
              "      <td>Airport</td>\n",
              "      <td>1.0</td>\n",
              "      <td>Trip Completed</td>\n",
              "      <td>2016-07-12 21:08:00</td>\n",
              "      <td>2016-07-12 22:03:00</td>\n",
              "      <td>21</td>\n",
              "      <td>12</td>\n",
              "      <td>Evening Rush</td>\n",
              "    </tr>\n",
              "    <tr>\n",
              "      <th>4</th>\n",
              "      <td>3112</td>\n",
              "      <td>City</td>\n",
              "      <td>1.0</td>\n",
              "      <td>Trip Completed</td>\n",
              "      <td>2016-07-13 08:33:16</td>\n",
              "      <td>2016-07-13 09:25:47</td>\n",
              "      <td>8</td>\n",
              "      <td>13</td>\n",
              "      <td>Morning Rush</td>\n",
              "    </tr>\n",
              "  </tbody>\n",
              "</table>\n",
              "</div>"
            ],
            "text/plain": [
              "   Request id Pickup point  Driver id  ... req_hour req_day     Time_Slot\n",
              "0         619      Airport        1.0  ...       11      11      Day Time\n",
              "1         867      Airport        1.0  ...       17      11  Evening Rush\n",
              "2        1807         City        1.0  ...        9      12  Morning Rush\n",
              "3        2532      Airport        1.0  ...       21      12  Evening Rush\n",
              "4        3112         City        1.0  ...        8      13  Morning Rush\n",
              "\n",
              "[5 rows x 9 columns]"
            ]
          },
          "metadata": {},
          "execution_count": 48
        }
      ]
    },
    {
      "cell_type": "code",
      "metadata": {
        "colab": {
          "base_uri": "https://localhost:8080/"
        },
        "id": "AjSik-09QyS9",
        "outputId": "9addf985-acd0-4963-b0b5-4a867420ffc9"
      },
      "source": [
        "df[\"Time_Slot\"].value_counts()"
      ],
      "execution_count": 50,
      "outputs": [
        {
          "output_type": "execute_result",
          "data": {
            "text/plain": [
              "Evening Rush    2342\n",
              "Morning Rush    2103\n",
              "Day Time        1224\n",
              "Pre Morning      578\n",
              "Late Night       498\n",
              "Name: Time_Slot, dtype: int64"
            ]
          },
          "metadata": {},
          "execution_count": 50
        }
      ]
    },
    {
      "cell_type": "code",
      "metadata": {
        "colab": {
          "base_uri": "https://localhost:8080/",
          "height": 389
        },
        "id": "2_IlIoZMQyWr",
        "outputId": "b3b620c2-b071-4256-a3f9-eca7f9a19343"
      },
      "source": [
        "## Check the visualization for Time_slot\n",
        "plt.figure(figsize=(10,6))\n",
        "sns.countplot(x=\"Time_Slot\", data=df, hue=\"Status\")\n",
        "plt.show()"
      ],
      "execution_count": 57,
      "outputs": [
        {
          "output_type": "display_data",
          "data": {
            "image/png": "[encoded data removed]",
            "text/plain": [
              "<Figure size 720x432 with 1 Axes>"
            ]
          },
          "metadata": {
            "needs_background": "light"
          }
        }
      ]
    },
    {
      "cell_type": "code",
      "metadata": {
        "id": "mfj0zgtUQya5"
      },
      "source": [
        "## 1. We can conclude that most of the cars are not available in Evening Rush Time\n",
        "## 2. Most of the cars were cancled in Morning Rush"
      ],
      "execution_count": null,
      "outputs": []
    },
    {
      "cell_type": "code",
      "metadata": {
        "id": "7GJe8dFPQyex"
      },
      "source": [
        "## Lets Analyze Morning Rush only\n",
        "df_morning_rush=df[df[\"Time_Slot\"]==\"Morning Rush\"]"
      ],
      "execution_count": 75,
      "outputs": []
    },
    {
      "cell_type": "code",
      "metadata": {
        "colab": {
          "base_uri": "https://localhost:8080/",
          "height": 388
        },
        "id": "whnMsYtsQyik",
        "outputId": "70cf6848-a8d8-42d6-ecf7-d8160b7791f4"
      },
      "source": [
        "plt.figure(figsize=(10,6))\n",
        "sns.countplot(x=\"Pickup point\", data=df_morning_rush, hue=\"Status\")\n",
        "plt.show()"
      ],
      "execution_count": 76,
      "outputs": [
        {
          "output_type": "display_data",
          "data": {
            "image/png": "[encoded data removed]",
            "text/plain": [
              "<Figure size 720x432 with 1 Axes>"
            ]
          },
          "metadata": {
            "needs_background": "light"
          }
        }
      ]
    },
    {
      "cell_type": "code",
      "metadata": {
        "id": "JDTyp6ixQymS"
      },
      "source": [
        "## During Morning Time most of the trips canceled in the City"
      ],
      "execution_count": null,
      "outputs": []
    },
    {
      "cell_type": "code",
      "metadata": {
        "id": "xQb0_EEkQyqE"
      },
      "source": [
        ""
      ],
      "execution_count": null,
      "outputs": []
    },
    {
      "cell_type": "markdown",
      "metadata": {
        "id": "A-YPD5mQa3PL"
      },
      "source": [
        "***Severity of problem by location and its counts (cancellation of cab as per the pickup location at the morning rush hours)***"
      ]
    },
    {
      "cell_type": "code",
      "metadata": {
        "id": "14KOM9x0QyuI"
      },
      "source": [
        "df_airport_cancelled=df_morning_rush.loc[(df_morning_rush[\"Pickup point\"]==\"Airport\") & (df_morning_rush[\"Status\"]==\"Cancelled\")]"
      ],
      "execution_count": 77,
      "outputs": []
    },
    {
      "cell_type": "code",
      "metadata": {
        "colab": {
          "base_uri": "https://localhost:8080/"
        },
        "id": "ui7krG_hQyxf",
        "outputId": "020328b8-8b99-4c00-bed9-c5104dfef089"
      },
      "source": [
        "df_airport_cancelled.shape"
      ],
      "execution_count": 78,
      "outputs": [
        {
          "output_type": "execute_result",
          "data": {
            "text/plain": [
              "(23, 9)"
            ]
          },
          "metadata": {},
          "execution_count": 78
        }
      ]
    },
    {
      "cell_type": "code",
      "metadata": {
        "id": "fKfcKrM8Qy1U"
      },
      "source": [
        "df_city_cancelled=df_morning_rush.loc[(df_morning_rush[\"Pickup point\"]==\"City\") & (df_morning_rush[\"Status\"]==\"Cancelled\")]"
      ],
      "execution_count": 79,
      "outputs": []
    },
    {
      "cell_type": "code",
      "metadata": {
        "colab": {
          "base_uri": "https://localhost:8080/"
        },
        "id": "vf_0Rlm0Qy43",
        "outputId": "bd48ff3b-2103-4ee5-eb68-bdeb00f9be0f"
      },
      "source": [
        "df_city_cancelled.shape"
      ],
      "execution_count": 80,
      "outputs": [
        {
          "output_type": "execute_result",
          "data": {
            "text/plain": [
              "(820, 9)"
            ]
          },
          "metadata": {},
          "execution_count": 80
        }
      ]
    },
    {
      "cell_type": "code",
      "metadata": {
        "id": "cg4LrDJQQzAY"
      },
      "source": [
        ""
      ],
      "execution_count": null,
      "outputs": []
    },
    {
      "cell_type": "markdown",
      "metadata": {
        "id": "WyIliui3dZYm"
      },
      "source": [
        "**Supply & Demand for City in Morning Rush**"
      ]
    },
    {
      "cell_type": "code",
      "metadata": {
        "colab": {
          "base_uri": "https://localhost:8080/"
        },
        "id": "t5sTjl-0QzDt",
        "outputId": "db204369-b9b4-4f33-af74-5c6f21ffaeba"
      },
      "source": [
        "df_morning_rush.loc[(df_morning_rush[\"Pickup point\"]==\"City\")].shape[0]"
      ],
      "execution_count": 81,
      "outputs": [
        {
          "output_type": "execute_result",
          "data": {
            "text/plain": [
              "1677"
            ]
          },
          "metadata": {},
          "execution_count": 81
        }
      ]
    },
    {
      "cell_type": "code",
      "metadata": {
        "colab": {
          "base_uri": "https://localhost:8080/"
        },
        "id": "-AfQ8BqwQzHo",
        "outputId": "5201e1c6-f247-412e-85ed-fb114e28369c"
      },
      "source": [
        "df_morning_rush.loc[(df_morning_rush[\"Pickup point\"]==\"City\") & (df_morning_rush[\"Status\"]==\"Trip Completed\")].shape[0]"
      ],
      "execution_count": 82,
      "outputs": [
        {
          "output_type": "execute_result",
          "data": {
            "text/plain": [
              "472"
            ]
          },
          "metadata": {},
          "execution_count": 82
        }
      ]
    },
    {
      "cell_type": "markdown",
      "metadata": {
        "id": "-koF_KX8eLw0"
      },
      "source": [
        "**Supply & Demand for Airport in Morning Rush**"
      ]
    },
    {
      "cell_type": "code",
      "metadata": {
        "colab": {
          "base_uri": "https://localhost:8080/"
        },
        "id": "MBJZgswIeSJf",
        "outputId": "77827404-8346-4e2e-9384-76667b117cb6"
      },
      "source": [
        "df_morning_rush.loc[(df_morning_rush[\"Pickup point\"]==\"Airport\")].shape[0]"
      ],
      "execution_count": 83,
      "outputs": [
        {
          "output_type": "execute_result",
          "data": {
            "text/plain": [
              "426"
            ]
          },
          "metadata": {},
          "execution_count": 83
        }
      ]
    },
    {
      "cell_type": "code",
      "metadata": {
        "colab": {
          "base_uri": "https://localhost:8080/"
        },
        "id": "0rAwpNWveSVh",
        "outputId": "3a72855e-53b8-49ae-e79f-3b244cbfb1d2"
      },
      "source": [
        "df_morning_rush.loc[(df_morning_rush[\"Pickup point\"]==\"Airport\") & (df_morning_rush[\"Status\"]==\"Trip Completed\")].shape[0]"
      ],
      "execution_count": 84,
      "outputs": [
        {
          "output_type": "execute_result",
          "data": {
            "text/plain": [
              "382"
            ]
          },
          "metadata": {},
          "execution_count": 84
        }
      ]
    },
    {
      "cell_type": "code",
      "metadata": {
        "id": "JlXPWowSeUid"
      },
      "source": [
        ""
      ],
      "execution_count": null,
      "outputs": []
    },
    {
      "cell_type": "code",
      "metadata": {
        "id": "SHSiubHDeWZ9"
      },
      "source": [
        ""
      ],
      "execution_count": null,
      "outputs": []
    },
    {
      "cell_type": "markdown",
      "metadata": {
        "id": "BU2XGi2fe0IT"
      },
      "source": [
        "Lets Analyze the same for Evening Rush"
      ]
    },
    {
      "cell_type": "code",
      "metadata": {
        "id": "g1mOS0BCeWi5"
      },
      "source": [
        "df_evening_rush=df[df[\"Time_Slot\"]==\"Evening Rush\"]\n"
      ],
      "execution_count": 85,
      "outputs": []
    },
    {
      "cell_type": "code",
      "metadata": {
        "colab": {
          "base_uri": "https://localhost:8080/",
          "height": 388
        },
        "id": "soIBeqqAeWo3",
        "outputId": "a67dfa82-6f98-40c7-fd24-7f445f41267e"
      },
      "source": [
        "plt.figure(figsize=(10,6))\n",
        "sns.countplot(x=\"Pickup point\", data=df_evening_rush, hue=\"Status\")\n",
        "plt.show()\n"
      ],
      "execution_count": 86,
      "outputs": [
        {
          "output_type": "display_data",
          "data": {
            "image/png": "[encoded data removed]",
            "text/plain": [
              "<Figure size 720x432 with 1 Axes>"
            ]
          },
          "metadata": {
            "needs_background": "light"
          }
        }
      ]
    },
    {
      "cell_type": "code",
      "metadata": {
        "id": "daAQs1jReWtn"
      },
      "source": [
        ""
      ],
      "execution_count": null,
      "outputs": []
    },
    {
      "cell_type": "markdown",
      "metadata": {
        "id": "ydwF6BrHfcPt"
      },
      "source": [
        "***Severity of problem by location and its counts (cancellation of cab as per the pickup location at the *Evening* rush hours)*** **bold text**\n"
      ]
    },
    {
      "cell_type": "code",
      "metadata": {
        "id": "3uiXoiFteWyQ"
      },
      "source": [
        "df_city_cancelled_ev=df_evening_rush.loc[(df_evening_rush[\"Pickup point\"]==\"City\") & (df_evening_rush[\"Status\"]==\"Cancelled\")]\n"
      ],
      "execution_count": 96,
      "outputs": []
    },
    {
      "cell_type": "code",
      "metadata": {
        "colab": {
          "base_uri": "https://localhost:8080/"
        },
        "id": "G7cOKyBmeW2d",
        "outputId": "20e0edf1-ad8c-4f4a-c69b-a12b9fb6d6bb"
      },
      "source": [
        "df_city_cancelled_ev.shape[0]"
      ],
      "execution_count": 95,
      "outputs": [
        {
          "output_type": "execute_result",
          "data": {
            "text/plain": [
              "60"
            ]
          },
          "metadata": {},
          "execution_count": 95
        }
      ]
    },
    {
      "cell_type": "code",
      "metadata": {
        "colab": {
          "base_uri": "https://localhost:8080/"
        },
        "id": "HcKafp1weW6e",
        "outputId": "2eb909ef-1d32-48bb-fd29-7517c29cf0f2"
      },
      "source": [
        "df_evening_rush.loc[(df_evening_rush[\"Pickup point\"]==\"City\")].shape[0] ## Demand for Evening Rush"
      ],
      "execution_count": 97,
      "outputs": [
        {
          "output_type": "execute_result",
          "data": {
            "text/plain": [
              "542"
            ]
          },
          "metadata": {},
          "execution_count": 97
        }
      ]
    },
    {
      "cell_type": "code",
      "metadata": {
        "colab": {
          "base_uri": "https://localhost:8080/"
        },
        "id": "Ser-bzpfeW-i",
        "outputId": "e68aaab4-fd95-4677-da5e-bb029172a15b"
      },
      "source": [
        "## Supply for Evening Rush\n",
        "df_evening_rush.loc[(df_evening_rush[\"Pickup point\"]==\"City\") & (df_evening_rush[\"Status\"]==\"Trip Completed\")].shape[0]"
      ],
      "execution_count": 101,
      "outputs": [
        {
          "output_type": "execute_result",
          "data": {
            "text/plain": [
              "411"
            ]
          },
          "metadata": {},
          "execution_count": 101
        }
      ]
    },
    {
      "cell_type": "markdown",
      "metadata": {
        "id": "psraT_d3ilNu"
      },
      "source": [
        "**In Evening Rush the Demand is 542 cars**\n",
        "**But the Supply is 411 for evening rush**"
      ]
    },
    {
      "cell_type": "code",
      "metadata": {
        "colab": {
          "base_uri": "https://localhost:8080/"
        },
        "id": "kQzgqS5XeXCw",
        "outputId": "bc573bec-066e-472d-af6e-c7f56fb2f7b2"
      },
      "source": [
        "df_evening_rush.loc[(df_evening_rush[\"Pickup point\"]==\"Airport\")].shape[0] ## Demand for Evening Rush"
      ],
      "execution_count": 102,
      "outputs": [
        {
          "output_type": "execute_result",
          "data": {
            "text/plain": [
              "1800"
            ]
          },
          "metadata": {},
          "execution_count": 102
        }
      ]
    },
    {
      "cell_type": "code",
      "metadata": {
        "colab": {
          "base_uri": "https://localhost:8080/"
        },
        "id": "oTuNgY2zeXG4",
        "outputId": "8cdc3b11-a9ea-4d6c-f970-c06fc2594a64"
      },
      "source": [
        "## Supply for Evening Rush\n",
        "df_evening_rush.loc[(df_evening_rush[\"Pickup point\"]==\"Airport\") & (df_evening_rush[\"Status\"]==\"Trip Completed\")].shape[0]"
      ],
      "execution_count": 103,
      "outputs": [
        {
          "output_type": "execute_result",
          "data": {
            "text/plain": [
              "373"
            ]
          },
          "metadata": {},
          "execution_count": 103
        }
      ]
    },
    {
      "cell_type": "code",
      "metadata": {
        "id": "_tXlzzVOeXLD"
      },
      "source": [
        ""
      ],
      "execution_count": null,
      "outputs": []
    },
    {
      "cell_type": "markdown",
      "metadata": {
        "id": "QMF2T31Nv6wp"
      },
      "source": [
        "Based on the results we can recommend the company that on Airport the demad is high 1800 and supply is 373. So you need\n",
        "to fullfill the deman "
      ]
    },
    {
      "cell_type": "code",
      "metadata": {
        "id": "iFUIIZ9OeXPE"
      },
      "source": [
        ""
      ],
      "execution_count": null,
      "outputs": []
    },
    {
      "cell_type": "markdown",
      "metadata": {
        "id": "yc_K68ZQxT0C"
      },
      "source": [
        "**Severity Porblem at each location by looking at cancellation of cabs in each of the pickup point**"
      ]
    },
    {
      "cell_type": "code",
      "metadata": {
        "colab": {
          "base_uri": "https://localhost:8080/"
        },
        "id": "Ish0T8xKeXTI",
        "outputId": "ad3fd9a7-75dc-4c97-b3c2-bb7167baa2aa"
      },
      "source": [
        "df_evening_rush.loc[(df_evening_rush[\"Pickup point\"]==\"Airport\") & (df_evening_rush[\"Status\"]==\"Cancelled\")].shape[0]"
      ],
      "execution_count": 104,
      "outputs": [
        {
          "output_type": "execute_result",
          "data": {
            "text/plain": [
              "106"
            ]
          },
          "metadata": {},
          "execution_count": 104
        }
      ]
    },
    {
      "cell_type": "code",
      "metadata": {
        "colab": {
          "base_uri": "https://localhost:8080/"
        },
        "id": "bG_TkgzfeXXT",
        "outputId": "f14112c3-9d79-40d9-f497-72c7a08e4838"
      },
      "source": [
        "df_evening_rush.loc[(df_evening_rush[\"Pickup point\"]==\"City\") & (df_evening_rush[\"Status\"]==\"Cancelled\")].shape[0]"
      ],
      "execution_count": 105,
      "outputs": [
        {
          "output_type": "execute_result",
          "data": {
            "text/plain": [
              "60"
            ]
          },
          "metadata": {},
          "execution_count": 105
        }
      ]
    },
    {
      "cell_type": "code",
      "metadata": {
        "id": "n_Q51JLJeXa_"
      },
      "source": [
        ""
      ],
      "execution_count": null,
      "outputs": []
    },
    {
      "cell_type": "markdown",
      "metadata": {
        "id": "3JLkSUE0zW3G"
      },
      "source": [
        "**MORNING RUSH AIRPORT**"
      ]
    },
    {
      "cell_type": "code",
      "metadata": {
        "colab": {
          "base_uri": "https://localhost:8080/"
        },
        "id": "AqHIosIFeXe1",
        "outputId": "8af7857b-3573-40dd-970d-22e64e2e1652"
      },
      "source": [
        "df_morning_rush.loc[(df_morning_rush[\"Pickup point\"]==\"Airport\")].shape[0]"
      ],
      "execution_count": 106,
      "outputs": [
        {
          "output_type": "execute_result",
          "data": {
            "text/plain": [
              "426"
            ]
          },
          "metadata": {},
          "execution_count": 106
        }
      ]
    },
    {
      "cell_type": "code",
      "metadata": {
        "colab": {
          "base_uri": "https://localhost:8080/"
        },
        "id": "F4anK-6_eXjK",
        "outputId": "0a4d037e-b3a8-4133-c57e-f0bf2b520915"
      },
      "source": [
        "df_morning_rush.loc[(df_morning_rush[\"Pickup point\"]==\"Airport\") & (df_morning_rush[\"Status\"]==\"Cancelled\")].shape[0]"
      ],
      "execution_count": 107,
      "outputs": [
        {
          "output_type": "execute_result",
          "data": {
            "text/plain": [
              "23"
            ]
          },
          "metadata": {},
          "execution_count": 107
        }
      ]
    },
    {
      "cell_type": "code",
      "metadata": {
        "colab": {
          "base_uri": "https://localhost:8080/"
        },
        "id": "K5iOrRyReXnO",
        "outputId": "b783d6ea-6560-4831-e41d-48b58ef3a2cb"
      },
      "source": [
        "df_morning_rush.loc[(df_morning_rush[\"Pickup point\"]==\"Airport\") & (df_morning_rush[\"Status\"]==\"Trip Completed\")].shape[0]"
      ],
      "execution_count": 108,
      "outputs": [
        {
          "output_type": "execute_result",
          "data": {
            "text/plain": [
              "382"
            ]
          },
          "metadata": {},
          "execution_count": 108
        }
      ]
    },
    {
      "cell_type": "code",
      "metadata": {
        "colab": {
          "base_uri": "https://localhost:8080/"
        },
        "id": "uEEkWFuheXrC",
        "outputId": "cbaa22c9-ddc4-4b2c-9b64-53237a3cc010"
      },
      "source": [
        "df_morning_rush.loc[(df_morning_rush[\"Pickup point\"]==\"Airport\") & (df_morning_rush[\"Status\"]==\"No Cars Available\")].shape[0]"
      ],
      "execution_count": 109,
      "outputs": [
        {
          "output_type": "execute_result",
          "data": {
            "text/plain": [
              "21"
            ]
          },
          "metadata": {},
          "execution_count": 109
        }
      ]
    },
    {
      "cell_type": "code",
      "metadata": {
        "id": "X4v7gguOeXu-"
      },
      "source": [
        ""
      ],
      "execution_count": null,
      "outputs": []
    },
    {
      "cell_type": "markdown",
      "metadata": {
        "id": "4FYeTZxUzb5B"
      },
      "source": [
        "**MORNING RUSH CITY**"
      ]
    },
    {
      "cell_type": "code",
      "metadata": {
        "colab": {
          "base_uri": "https://localhost:8080/"
        },
        "id": "H_v0W6YZeXzP",
        "outputId": "0f035736-cec9-49fe-cfa8-e10e50247af4"
      },
      "source": [
        "df_morning_rush.loc[(df_morning_rush[\"Pickup point\"]==\"City\")].shape[0]\n"
      ],
      "execution_count": 110,
      "outputs": [
        {
          "output_type": "execute_result",
          "data": {
            "text/plain": [
              "1677"
            ]
          },
          "metadata": {},
          "execution_count": 110
        }
      ]
    },
    {
      "cell_type": "code",
      "metadata": {
        "colab": {
          "base_uri": "https://localhost:8080/"
        },
        "id": "r1F537FfeX2_",
        "outputId": "6ea72e2d-ead8-4f3b-a720-cae8e47fa07b"
      },
      "source": [
        "df_morning_rush.loc[(df_morning_rush[\"Pickup point\"]==\"City\") & (df_morning_rush[\"Status\"]==\"Cancelled\")].shape[0]\n"
      ],
      "execution_count": 111,
      "outputs": [
        {
          "output_type": "execute_result",
          "data": {
            "text/plain": [
              "820"
            ]
          },
          "metadata": {},
          "execution_count": 111
        }
      ]
    },
    {
      "cell_type": "code",
      "metadata": {
        "colab": {
          "base_uri": "https://localhost:8080/"
        },
        "id": "ZLdDzlbreX6_",
        "outputId": "c98506c2-4251-489c-9958-27fc377acd2e"
      },
      "source": [
        "df_morning_rush.loc[(df_morning_rush[\"Pickup point\"]==\"City\") & (df_morning_rush[\"Status\"]==\"Trip Completed\")].shape[0]\n"
      ],
      "execution_count": 112,
      "outputs": [
        {
          "output_type": "execute_result",
          "data": {
            "text/plain": [
              "472"
            ]
          },
          "metadata": {},
          "execution_count": 112
        }
      ]
    },
    {
      "cell_type": "code",
      "metadata": {
        "colab": {
          "base_uri": "https://localhost:8080/"
        },
        "id": "BAGGt_OaeYAN",
        "outputId": "21ceb1fb-f54b-4b4d-f111-0076df890875"
      },
      "source": [
        "df_morning_rush.loc[(df_morning_rush[\"Pickup point\"]==\"City\") & (df_morning_rush[\"Status\"]==\"No Cars Available\")].shape[0]\n"
      ],
      "execution_count": 113,
      "outputs": [
        {
          "output_type": "execute_result",
          "data": {
            "text/plain": [
              "385"
            ]
          },
          "metadata": {},
          "execution_count": 113
        }
      ]
    },
    {
      "cell_type": "code",
      "metadata": {
        "colab": {
          "base_uri": "https://localhost:8080/",
          "height": 203
        },
        "id": "jVwxqVieeYIK",
        "outputId": "f0125577-f69e-42ea-fe8b-a1aae0324f87"
      },
      "source": [
        "df.head()"
      ],
      "execution_count": 118,
      "outputs": [
        {
          "output_type": "execute_result",
          "data": {
            "text/html": [
              "<div>\n",
              "<style scoped>\n",
              "    .dataframe tbody tr th:only-of-type {\n",
              "        vertical-align: middle;\n",
              "    }\n",
              "\n",
              "    .dataframe tbody tr th {\n",
              "        vertical-align: top;\n",
              "    }\n",
              "\n",
              "    .dataframe thead th {\n",
              "        text-align: right;\n",
              "    }\n",
              "</style>\n",
              "<table border=\"1\" class=\"dataframe\">\n",
              "  <thead>\n",
              "    <tr style=\"text-align: right;\">\n",
              "      <th></th>\n",
              "      <th>Request id</th>\n",
              "      <th>Pickup point</th>\n",
              "      <th>Driver id</th>\n",
              "      <th>Status</th>\n",
              "      <th>Request timestamp</th>\n",
              "      <th>Drop timestamp</th>\n",
              "      <th>req_hour</th>\n",
              "      <th>req_day</th>\n",
              "      <th>Time_Slot</th>\n",
              "    </tr>\n",
              "  </thead>\n",
              "  <tbody>\n",
              "    <tr>\n",
              "      <th>0</th>\n",
              "      <td>619</td>\n",
              "      <td>Airport</td>\n",
              "      <td>1.0</td>\n",
              "      <td>Trip Completed</td>\n",
              "      <td>2016-07-11 11:51:00</td>\n",
              "      <td>2016-07-11 13:00:00</td>\n",
              "      <td>11</td>\n",
              "      <td>11</td>\n",
              "      <td>Day Time</td>\n",
              "    </tr>\n",
              "    <tr>\n",
              "      <th>1</th>\n",
              "      <td>867</td>\n",
              "      <td>Airport</td>\n",
              "      <td>1.0</td>\n",
              "      <td>Trip Completed</td>\n",
              "      <td>2016-07-11 17:57:00</td>\n",
              "      <td>2016-07-11 18:47:00</td>\n",
              "      <td>17</td>\n",
              "      <td>11</td>\n",
              "      <td>Evening Rush</td>\n",
              "    </tr>\n",
              "    <tr>\n",
              "      <th>2</th>\n",
              "      <td>1807</td>\n",
              "      <td>City</td>\n",
              "      <td>1.0</td>\n",
              "      <td>Trip Completed</td>\n",
              "      <td>2016-07-12 09:17:00</td>\n",
              "      <td>2016-07-12 09:58:00</td>\n",
              "      <td>9</td>\n",
              "      <td>12</td>\n",
              "      <td>Morning Rush</td>\n",
              "    </tr>\n",
              "    <tr>\n",
              "      <th>3</th>\n",
              "      <td>2532</td>\n",
              "      <td>Airport</td>\n",
              "      <td>1.0</td>\n",
              "      <td>Trip Completed</td>\n",
              "      <td>2016-07-12 21:08:00</td>\n",
              "      <td>2016-07-12 22:03:00</td>\n",
              "      <td>21</td>\n",
              "      <td>12</td>\n",
              "      <td>Evening Rush</td>\n",
              "    </tr>\n",
              "    <tr>\n",
              "      <th>4</th>\n",
              "      <td>3112</td>\n",
              "      <td>City</td>\n",
              "      <td>1.0</td>\n",
              "      <td>Trip Completed</td>\n",
              "      <td>2016-07-13 08:33:16</td>\n",
              "      <td>2016-07-13 09:25:47</td>\n",
              "      <td>8</td>\n",
              "      <td>13</td>\n",
              "      <td>Morning Rush</td>\n",
              "    </tr>\n",
              "  </tbody>\n",
              "</table>\n",
              "</div>"
            ],
            "text/plain": [
              "   Request id Pickup point  Driver id  ... req_hour req_day     Time_Slot\n",
              "0         619      Airport        1.0  ...       11      11      Day Time\n",
              "1         867      Airport        1.0  ...       17      11  Evening Rush\n",
              "2        1807         City        1.0  ...        9      12  Morning Rush\n",
              "3        2532      Airport        1.0  ...       21      12  Evening Rush\n",
              "4        3112         City        1.0  ...        8      13  Morning Rush\n",
              "\n",
              "[5 rows x 9 columns]"
            ]
          },
          "metadata": {},
          "execution_count": 118
        }
      ]
    },
    {
      "cell_type": "code",
      "metadata": {
        "id": "cL7sOU1t0jw3"
      },
      "source": [
        "df_evening_city=df.loc[(df[\"Pickup point\"]==\"City\") & (df[\"Time_Slot\"]==\"Evening Rush\")]"
      ],
      "execution_count": 123,
      "outputs": []
    },
    {
      "cell_type": "code",
      "metadata": {
        "colab": {
          "base_uri": "https://localhost:8080/",
          "height": 203
        },
        "id": "cZkBv2O40j6F",
        "outputId": "6b421be8-6080-4ddc-a45c-e01bdd488878"
      },
      "source": [
        "df_evening_city.head()"
      ],
      "execution_count": 124,
      "outputs": [
        {
          "output_type": "execute_result",
          "data": {
            "text/html": [
              "<div>\n",
              "<style scoped>\n",
              "    .dataframe tbody tr th:only-of-type {\n",
              "        vertical-align: middle;\n",
              "    }\n",
              "\n",
              "    .dataframe tbody tr th {\n",
              "        vertical-align: top;\n",
              "    }\n",
              "\n",
              "    .dataframe thead th {\n",
              "        text-align: right;\n",
              "    }\n",
              "</style>\n",
              "<table border=\"1\" class=\"dataframe\">\n",
              "  <thead>\n",
              "    <tr style=\"text-align: right;\">\n",
              "      <th></th>\n",
              "      <th>Request id</th>\n",
              "      <th>Pickup point</th>\n",
              "      <th>Driver id</th>\n",
              "      <th>Status</th>\n",
              "      <th>Request timestamp</th>\n",
              "      <th>Drop timestamp</th>\n",
              "      <th>req_hour</th>\n",
              "      <th>req_day</th>\n",
              "      <th>Time_Slot</th>\n",
              "    </tr>\n",
              "  </thead>\n",
              "  <tbody>\n",
              "    <tr>\n",
              "      <th>8</th>\n",
              "      <td>6248</td>\n",
              "      <td>City</td>\n",
              "      <td>1.0</td>\n",
              "      <td>Trip Completed</td>\n",
              "      <td>2016-07-15 17:57:27</td>\n",
              "      <td>2016-07-15 18:50:51</td>\n",
              "      <td>17</td>\n",
              "      <td>15</td>\n",
              "      <td>Evening Rush</td>\n",
              "    </tr>\n",
              "    <tr>\n",
              "      <th>25</th>\n",
              "      <td>5254</td>\n",
              "      <td>City</td>\n",
              "      <td>3.0</td>\n",
              "      <td>Trip Completed</td>\n",
              "      <td>2016-07-14 21:23:03</td>\n",
              "      <td>2016-07-14 22:25:19</td>\n",
              "      <td>21</td>\n",
              "      <td>14</td>\n",
              "      <td>Evening Rush</td>\n",
              "    </tr>\n",
              "    <tr>\n",
              "      <th>40</th>\n",
              "      <td>1179</td>\n",
              "      <td>City</td>\n",
              "      <td>5.0</td>\n",
              "      <td>Trip Completed</td>\n",
              "      <td>2016-07-11 20:58:00</td>\n",
              "      <td>2016-07-11 21:45:00</td>\n",
              "      <td>20</td>\n",
              "      <td>11</td>\n",
              "      <td>Evening Rush</td>\n",
              "    </tr>\n",
              "    <tr>\n",
              "      <th>43</th>\n",
              "      <td>2559</td>\n",
              "      <td>City</td>\n",
              "      <td>5.0</td>\n",
              "      <td>Trip Completed</td>\n",
              "      <td>2016-07-12 21:32:00</td>\n",
              "      <td>2016-07-12 22:29:00</td>\n",
              "      <td>21</td>\n",
              "      <td>12</td>\n",
              "      <td>Evening Rush</td>\n",
              "    </tr>\n",
              "    <tr>\n",
              "      <th>52</th>\n",
              "      <td>3882</td>\n",
              "      <td>City</td>\n",
              "      <td>6.0</td>\n",
              "      <td>Trip Completed</td>\n",
              "      <td>2016-07-13 21:53:03</td>\n",
              "      <td>2016-07-13 22:45:24</td>\n",
              "      <td>21</td>\n",
              "      <td>13</td>\n",
              "      <td>Evening Rush</td>\n",
              "    </tr>\n",
              "  </tbody>\n",
              "</table>\n",
              "</div>"
            ],
            "text/plain": [
              "    Request id Pickup point  Driver id  ... req_hour req_day     Time_Slot\n",
              "8         6248         City        1.0  ...       17      15  Evening Rush\n",
              "25        5254         City        3.0  ...       21      14  Evening Rush\n",
              "40        1179         City        5.0  ...       20      11  Evening Rush\n",
              "43        2559         City        5.0  ...       21      12  Evening Rush\n",
              "52        3882         City        6.0  ...       21      13  Evening Rush\n",
              "\n",
              "[5 rows x 9 columns]"
            ]
          },
          "metadata": {},
          "execution_count": 124
        }
      ]
    },
    {
      "cell_type": "code",
      "metadata": {
        "id": "lC6dBWu47xrf"
      },
      "source": [
        "import pandas as pd"
      ],
      "execution_count": 126,
      "outputs": []
    },
    {
      "cell_type": "code",
      "metadata": {
        "id": "LD2ZPGuy0j-t"
      },
      "source": [
        "df_evening_city_count=pd.DataFrame(df_evening_city[\"Status\"].value_counts())"
      ],
      "execution_count": 129,
      "outputs": []
    },
    {
      "cell_type": "code",
      "metadata": {
        "colab": {
          "base_uri": "https://localhost:8080/",
          "height": 142
        },
        "id": "ss-3m5DG0kCu",
        "outputId": "f0ad3563-2789-41b6-92a2-8bcbbebb8879"
      },
      "source": [
        "df_evening_city_count"
      ],
      "execution_count": 131,
      "outputs": [
        {
          "output_type": "execute_result",
          "data": {
            "text/html": [
              "<div>\n",
              "<style scoped>\n",
              "    .dataframe tbody tr th:only-of-type {\n",
              "        vertical-align: middle;\n",
              "    }\n",
              "\n",
              "    .dataframe tbody tr th {\n",
              "        vertical-align: top;\n",
              "    }\n",
              "\n",
              "    .dataframe thead th {\n",
              "        text-align: right;\n",
              "    }\n",
              "</style>\n",
              "<table border=\"1\" class=\"dataframe\">\n",
              "  <thead>\n",
              "    <tr style=\"text-align: right;\">\n",
              "      <th></th>\n",
              "      <th>Status</th>\n",
              "    </tr>\n",
              "  </thead>\n",
              "  <tbody>\n",
              "    <tr>\n",
              "      <th>Trip Completed</th>\n",
              "      <td>411</td>\n",
              "    </tr>\n",
              "    <tr>\n",
              "      <th>No Cars Available</th>\n",
              "      <td>71</td>\n",
              "    </tr>\n",
              "    <tr>\n",
              "      <th>Cancelled</th>\n",
              "      <td>60</td>\n",
              "    </tr>\n",
              "  </tbody>\n",
              "</table>\n",
              "</div>"
            ],
            "text/plain": [
              "                   Status\n",
              "Trip Completed        411\n",
              "No Cars Available      71\n",
              "Cancelled              60"
            ]
          },
          "metadata": {},
          "execution_count": 131
        }
      ]
    },
    {
      "cell_type": "code",
      "metadata": {
        "colab": {
          "base_uri": "https://localhost:8080/",
          "height": 248
        },
        "id": "kZC4RhME0kIC",
        "outputId": "7fc1bf33-3bd7-4657-c56d-1da7736cb14c"
      },
      "source": [
        "fig,ax=plt.subplots()\n",
        "ax.pie(df_evening_city_count[\"Status\"].values, labels=df_evening_city_count[\"Status\"].index, \n",
        "       autopct=\"%.2f%%\", startangle=90)\n",
        "plt.show()"
      ],
      "execution_count": 136,
      "outputs": [
        {
          "output_type": "display_data",
          "data": {
            "image/png": "[encoded data removed]",
            "text/plain": [
              "<Figure size 432x288 with 1 Axes>"
            ]
          },
          "metadata": {}
        }
      ]
    },
    {
      "cell_type": "code",
      "metadata": {
        "id": "9zCUbwXF0kKj"
      },
      "source": [
        ""
      ],
      "execution_count": null,
      "outputs": []
    },
    {
      "cell_type": "code",
      "metadata": {
        "id": "IR2XCi8b0kOB"
      },
      "source": [
        "df_evening_airport=df.loc[(df[\"Pickup point\"]==\"Airport\") & (df[\"Time_Slot\"]==\"Evening Rush\")]"
      ],
      "execution_count": 144,
      "outputs": []
    },
    {
      "cell_type": "code",
      "metadata": {
        "id": "jnZs8Yqm0kRl"
      },
      "source": [
        "df_evening_airport_count=pd.DataFrame(df_evening_airport[\"Status\"].value_counts())"
      ],
      "execution_count": 145,
      "outputs": []
    },
    {
      "cell_type": "code",
      "metadata": {
        "colab": {
          "base_uri": "https://localhost:8080/",
          "height": 142
        },
        "id": "as5DVjW-0kVN",
        "outputId": "9939a6a8-99c8-4143-821a-95e253315b5c"
      },
      "source": [
        "df_evening_airport_count"
      ],
      "execution_count": 146,
      "outputs": [
        {
          "output_type": "execute_result",
          "data": {
            "text/html": [
              "<div>\n",
              "<style scoped>\n",
              "    .dataframe tbody tr th:only-of-type {\n",
              "        vertical-align: middle;\n",
              "    }\n",
              "\n",
              "    .dataframe tbody tr th {\n",
              "        vertical-align: top;\n",
              "    }\n",
              "\n",
              "    .dataframe thead th {\n",
              "        text-align: right;\n",
              "    }\n",
              "</style>\n",
              "<table border=\"1\" class=\"dataframe\">\n",
              "  <thead>\n",
              "    <tr style=\"text-align: right;\">\n",
              "      <th></th>\n",
              "      <th>Status</th>\n",
              "    </tr>\n",
              "  </thead>\n",
              "  <tbody>\n",
              "    <tr>\n",
              "      <th>No Cars Available</th>\n",
              "      <td>1321</td>\n",
              "    </tr>\n",
              "    <tr>\n",
              "      <th>Trip Completed</th>\n",
              "      <td>373</td>\n",
              "    </tr>\n",
              "    <tr>\n",
              "      <th>Cancelled</th>\n",
              "      <td>106</td>\n",
              "    </tr>\n",
              "  </tbody>\n",
              "</table>\n",
              "</div>"
            ],
            "text/plain": [
              "                   Status\n",
              "No Cars Available    1321\n",
              "Trip Completed        373\n",
              "Cancelled             106"
            ]
          },
          "metadata": {},
          "execution_count": 146
        }
      ]
    },
    {
      "cell_type": "code",
      "metadata": {
        "colab": {
          "base_uri": "https://localhost:8080/"
        },
        "id": "1vM1WRzu0kY2",
        "outputId": "aa842e9a-5668-41e1-97a8-5501ebf597bf"
      },
      "source": [
        "df_evening_airport_count[\"Status\"].values"
      ],
      "execution_count": 147,
      "outputs": [
        {
          "output_type": "execute_result",
          "data": {
            "text/plain": [
              "array([1321,  373,  106])"
            ]
          },
          "metadata": {},
          "execution_count": 147
        }
      ]
    },
    {
      "cell_type": "code",
      "metadata": {
        "colab": {
          "base_uri": "https://localhost:8080/"
        },
        "id": "rJswNavK0kcg",
        "outputId": "0bdf240d-9c60-4170-ac4e-43812b5d1420"
      },
      "source": [
        "df_evening_airport_count[\"Status\"].index"
      ],
      "execution_count": 148,
      "outputs": [
        {
          "output_type": "execute_result",
          "data": {
            "text/plain": [
              "Index(['No Cars Available', 'Trip Completed', 'Cancelled'], dtype='object')"
            ]
          },
          "metadata": {},
          "execution_count": 148
        }
      ]
    },
    {
      "cell_type": "code",
      "metadata": {
        "colab": {
          "base_uri": "https://localhost:8080/",
          "height": 248
        },
        "id": "BtXNg4UE0kgJ",
        "outputId": "f785b091-757a-4c56-ca77-d7a00435d682"
      },
      "source": [
        "fig,ax=plt.subplots()\n",
        "ax.pie(df_evening_airport_count[\"Status\"].values, labels=df_evening_airport_count[\"Status\"].index, \n",
        "       autopct=\"%.2f%%\", startangle=90)\n",
        "plt.show()"
      ],
      "execution_count": 149,
      "outputs": [
        {
          "output_type": "display_data",
          "data": {
            "image/png": "[encoded data removed]",
            "text/plain": [
              "<Figure size 432x288 with 1 Axes>"
            ]
          },
          "metadata": {}
        }
      ]
    },
    {
      "cell_type": "code",
      "metadata": {
        "id": "Gzz0ItJT0kjy"
      },
      "source": [
        "1. They could be given a bonus for each trip they complete from the city to the airport in the morning rush. This will ensure less number of trips are calcelled\n",
        "2. Uber can pay for the gas milage of drivers to come back to the city without a ride\n",
        "3. Drivers can again be given bonus to complete a trip from the airport in the evening. This will increase the supply at the airport.\n",
        "4. Another way could be to increase licences of car pooling taxis so that lesser number of cars serve more passengers\n"
      ],
      "execution_count": null,
      "outputs": []
    },
    {
      "cell_type": "code",
      "metadata": {
        "id": "ZFbDMpRX0knt"
      },
      "source": [
        ""
      ],
      "execution_count": null,
      "outputs": []
    },
    {
      "cell_type": "code",
      "metadata": {
        "id": "92BrDG7u0krc"
      },
      "source": [
        ""
      ],
      "execution_count": null,
      "outputs": []
    },
    {
      "cell_type": "code",
      "metadata": {
        "id": "7g4QmD830kvP"
      },
      "source": [
        ""
      ],
      "execution_count": null,
      "outputs": []
    },
    {
      "cell_type": "code",
      "metadata": {
        "id": "14jCVjH40kzK"
      },
      "source": [
        ""
      ],
      "execution_count": null,
      "outputs": []
    },
    {
      "cell_type": "code",
      "metadata": {
        "id": "MjAHBfkp0k2y"
      },
      "source": [
        ""
      ],
      "execution_count": null,
      "outputs": []
    },
    {
      "cell_type": "code",
      "metadata": {
        "id": "QUn9BrGD0k6i"
      },
      "source": [
        ""
      ],
      "execution_count": null,
      "outputs": []
    },
    {
      "cell_type": "code",
      "metadata": {
        "id": "stFU1Rdx0k-V"
      },
      "source": [
        ""
      ],
      "execution_count": null,
      "outputs": []
    },
    {
      "cell_type": "code",
      "metadata": {
        "id": "UIFGleNu0lCc"
      },
      "source": [
        ""
      ],
      "execution_count": null,
      "outputs": []
    },
    {
      "cell_type": "code",
      "metadata": {
        "id": "RYulTZoC0lGv"
      },
      "source": [
        ""
      ],
      "execution_count": null,
      "outputs": []
    }
  ]
}